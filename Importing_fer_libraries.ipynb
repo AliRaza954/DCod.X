{
 "cells": [
  {
   "cell_type": "code",
   "execution_count": null,
   "metadata": {},
   "outputs": [],
   "source": [
    "from fer import Video\n",
    "from fer import FER\n",
    "video_filename = \"D:/python/YouTube.mp4\"\n",
    "video = Video(video_filename)\n",
    "# Analyze video, displaying the output\n",
    "detector = FER(mtcnn=True)\n",
    "video.analyze(detector, display=True)"
   ]
  }
 ],
 "metadata": {
  "kernelspec": {
   "display_name": "Python 3",
   "language": "python",
   "name": "python3"
  },
  "language_info": {
   "codemirror_mode": {
    "name": "ipython",
    "version": 3
   },
   "file_extension": ".py",
   "mimetype": "text/x-python",
   "name": "python",
   "nbconvert_exporter": "python",
   "pygments_lexer": "ipython3",
   "version": "3.8.3"
  }
 },
 "nbformat": 4,
 "nbformat_minor": 4
}
